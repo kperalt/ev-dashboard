{
 "cells": [
  {
   "cell_type": "code",
   "execution_count": 1,
   "id": "7338ccb9-fc75-4310-b7e6-eb1415b929c5",
   "metadata": {},
   "outputs": [
    {
     "name": "stdout",
     "output_type": "stream",
     "text": [
      "Requirement already satisfied: yfinance in /opt/anaconda3/lib/python3.13/site-packages (0.2.64)\n",
      "Requirement already satisfied: pandas in /opt/anaconda3/lib/python3.13/site-packages (2.2.3)\n",
      "Requirement already satisfied: numpy>=1.16.5 in /opt/anaconda3/lib/python3.13/site-packages (from yfinance) (2.1.3)\n",
      "Requirement already satisfied: requests>=2.31 in /opt/anaconda3/lib/python3.13/site-packages (from yfinance) (2.32.3)\n",
      "Requirement already satisfied: multitasking>=0.0.7 in /opt/anaconda3/lib/python3.13/site-packages (from yfinance) (0.0.11)\n",
      "Requirement already satisfied: platformdirs>=2.0.0 in /opt/anaconda3/lib/python3.13/site-packages (from yfinance) (4.3.7)\n",
      "Requirement already satisfied: pytz>=2022.5 in /opt/anaconda3/lib/python3.13/site-packages (from yfinance) (2024.1)\n",
      "Requirement already satisfied: frozendict>=2.3.4 in /opt/anaconda3/lib/python3.13/site-packages (from yfinance) (2.4.2)\n",
      "Requirement already satisfied: peewee>=3.16.2 in /opt/anaconda3/lib/python3.13/site-packages (from yfinance) (3.18.1)\n",
      "Requirement already satisfied: beautifulsoup4>=4.11.1 in /opt/anaconda3/lib/python3.13/site-packages (from yfinance) (4.12.3)\n",
      "Requirement already satisfied: curl_cffi>=0.7 in /opt/anaconda3/lib/python3.13/site-packages (from yfinance) (0.11.4)\n",
      "Requirement already satisfied: protobuf>=3.19.0 in /opt/anaconda3/lib/python3.13/site-packages (from yfinance) (5.29.3)\n",
      "Requirement already satisfied: websockets>=13.0 in /opt/anaconda3/lib/python3.13/site-packages (from yfinance) (15.0.1)\n",
      "Requirement already satisfied: python-dateutil>=2.8.2 in /opt/anaconda3/lib/python3.13/site-packages (from pandas) (2.9.0.post0)\n",
      "Requirement already satisfied: tzdata>=2022.7 in /opt/anaconda3/lib/python3.13/site-packages (from pandas) (2025.2)\n",
      "Requirement already satisfied: soupsieve>1.2 in /opt/anaconda3/lib/python3.13/site-packages (from beautifulsoup4>=4.11.1->yfinance) (2.5)\n",
      "Requirement already satisfied: cffi>=1.12.0 in /opt/anaconda3/lib/python3.13/site-packages (from curl_cffi>=0.7->yfinance) (1.17.1)\n",
      "Requirement already satisfied: certifi>=2024.2.2 in /opt/anaconda3/lib/python3.13/site-packages (from curl_cffi>=0.7->yfinance) (2025.6.15)\n",
      "Requirement already satisfied: pycparser in /opt/anaconda3/lib/python3.13/site-packages (from cffi>=1.12.0->curl_cffi>=0.7->yfinance) (2.21)\n",
      "Requirement already satisfied: six>=1.5 in /opt/anaconda3/lib/python3.13/site-packages (from python-dateutil>=2.8.2->pandas) (1.17.0)\n",
      "Requirement already satisfied: charset-normalizer<4,>=2 in /opt/anaconda3/lib/python3.13/site-packages (from requests>=2.31->yfinance) (3.3.2)\n",
      "Requirement already satisfied: idna<4,>=2.5 in /opt/anaconda3/lib/python3.13/site-packages (from requests>=2.31->yfinance) (3.7)\n",
      "Requirement already satisfied: urllib3<3,>=1.21.1 in /opt/anaconda3/lib/python3.13/site-packages (from requests>=2.31->yfinance) (2.3.0)\n"
     ]
    }
   ],
   "source": [
    "!pip install yfinance pandas"
   ]
  },
  {
   "cell_type": "code",
   "execution_count": 2,
   "id": "b1de122e-cdaa-46f5-9e08-3e8fb4a4052a",
   "metadata": {},
   "outputs": [],
   "source": [
    "import yfinance as yf\n",
    "import pandas as pd"
   ]
  },
  {
   "cell_type": "code",
   "execution_count": 3,
   "id": "56ba7a4e-912d-4d11-ade2-ea607543487a",
   "metadata": {},
   "outputs": [
    {
     "name": "stdout",
     "output_type": "stream",
     "text": [
      "Downloading Tesla stock data...\n"
     ]
    },
    {
     "name": "stderr",
     "output_type": "stream",
     "text": [
      "/var/folders/9v/l9_ltp417dx5rkpmw9wk4gw80000gn/T/ipykernel_5769/4040394361.py:14: FutureWarning: YF.download() has changed argument auto_adjust default to True\n",
      "  data = yf.download(ticker, start=start_date, end=end_date)\n",
      "[*********************100%***********************]  1 of 1 completed\n",
      "/var/folders/9v/l9_ltp417dx5rkpmw9wk4gw80000gn/T/ipykernel_5769/4040394361.py:14: FutureWarning: YF.download() has changed argument auto_adjust default to True\n",
      "  data = yf.download(ticker, start=start_date, end=end_date)\n"
     ]
    },
    {
     "name": "stdout",
     "output_type": "stream",
     "text": [
      "Saved Tesla data with 354 rows\n",
      "\n",
      "Downloading BYD stock data...\n"
     ]
    },
    {
     "name": "stderr",
     "output_type": "stream",
     "text": [
      "[*********************100%***********************]  1 of 1 completed\n",
      "/var/folders/9v/l9_ltp417dx5rkpmw9wk4gw80000gn/T/ipykernel_5769/4040394361.py:14: FutureWarning: YF.download() has changed argument auto_adjust default to True\n",
      "  data = yf.download(ticker, start=start_date, end=end_date)\n"
     ]
    },
    {
     "name": "stdout",
     "output_type": "stream",
     "text": [
      "Saved BYD data with 354 rows\n",
      "\n",
      "Downloading NIO stock data...\n"
     ]
    },
    {
     "name": "stderr",
     "output_type": "stream",
     "text": [
      "[*********************100%***********************]  1 of 1 completed"
     ]
    },
    {
     "name": "stdout",
     "output_type": "stream",
     "text": [
      "Saved NIO data with 354 rows\n",
      "\n"
     ]
    },
    {
     "name": "stderr",
     "output_type": "stream",
     "text": [
      "\n"
     ]
    }
   ],
   "source": [
    "# Define tickers for 2024–2025\n",
    "tickers = {\n",
    "    'Tesla': 'TSLA',\n",
    "    'BYD': 'BYDDY',\n",
    "    'NIO': 'NIO'\n",
    "}\n",
    "\n",
    "start_date = '2024-01-01'\n",
    "end_date = '2025-05-31'\n",
    "\n",
    "# Download and save each to CSV\n",
    "for company, ticker in tickers.items():\n",
    "    print(f'Downloading {company} stock data...')\n",
    "    data = yf.download(ticker, start=start_date, end=end_date)\n",
    "    data.to_csv(f'{company}_stock_2024_2025.csv')\n",
    "    print(f'Saved {company} data with {len(data)} rows\\n')"
   ]
  },
  {
   "cell_type": "code",
   "execution_count": 4,
   "id": "50e8527f-96b0-41e0-865a-ae2b7dded5ab",
   "metadata": {},
   "outputs": [],
   "source": [
    "def clean_stock_data(filepath, company_name):\n",
    "    df = pd.read_csv(filepath, skiprows=2)  # Skip header artifacts\n",
    "    df = df[['Date', 'Unnamed: 1']]        # Keep only Date and Close Price\n",
    "    df.columns = ['Date', f'{company_name}_Close']\n",
    "    df['Date'] = pd.to_datetime(df['Date'])\n",
    "    return df\n",
    "\n",
    "# Clean all three\n",
    "tesla_df = clean_stock_data('Tesla_stock_2024_2025.csv', 'Tesla')\n",
    "byd_df = clean_stock_data('BYD_stock_2024_2025.csv', 'BYD')\n",
    "nio_df = clean_stock_data('NIO_stock_2024_2025.csv', 'NIO')"
   ]
  },
  {
   "cell_type": "code",
   "execution_count": 5,
   "id": "48e56d99-5712-422a-bb5d-011b411b79b0",
   "metadata": {},
   "outputs": [
    {
     "data": {
      "text/html": [
       "<div>\n",
       "<style scoped>\n",
       "    .dataframe tbody tr th:only-of-type {\n",
       "        vertical-align: middle;\n",
       "    }\n",
       "\n",
       "    .dataframe tbody tr th {\n",
       "        vertical-align: top;\n",
       "    }\n",
       "\n",
       "    .dataframe thead th {\n",
       "        text-align: right;\n",
       "    }\n",
       "</style>\n",
       "<table border=\"1\" class=\"dataframe\">\n",
       "  <thead>\n",
       "    <tr style=\"text-align: right;\">\n",
       "      <th></th>\n",
       "      <th>Date</th>\n",
       "      <th>Tesla_Close</th>\n",
       "      <th>BYD_Close</th>\n",
       "      <th>NIO_Close</th>\n",
       "    </tr>\n",
       "  </thead>\n",
       "  <tbody>\n",
       "    <tr>\n",
       "      <th>0</th>\n",
       "      <td>2024-01-02</td>\n",
       "      <td>248.419998</td>\n",
       "      <td>52.913208</td>\n",
       "      <td>8.42</td>\n",
       "    </tr>\n",
       "    <tr>\n",
       "      <th>1</th>\n",
       "      <td>2024-01-03</td>\n",
       "      <td>238.449997</td>\n",
       "      <td>53.662071</td>\n",
       "      <td>8.50</td>\n",
       "    </tr>\n",
       "    <tr>\n",
       "      <th>2</th>\n",
       "      <td>2024-01-04</td>\n",
       "      <td>237.929993</td>\n",
       "      <td>52.824524</td>\n",
       "      <td>8.27</td>\n",
       "    </tr>\n",
       "    <tr>\n",
       "      <th>3</th>\n",
       "      <td>2024-01-05</td>\n",
       "      <td>237.490005</td>\n",
       "      <td>52.588039</td>\n",
       "      <td>8.06</td>\n",
       "    </tr>\n",
       "    <tr>\n",
       "      <th>4</th>\n",
       "      <td>2024-01-08</td>\n",
       "      <td>240.449997</td>\n",
       "      <td>52.420532</td>\n",
       "      <td>7.93</td>\n",
       "    </tr>\n",
       "  </tbody>\n",
       "</table>\n",
       "</div>"
      ],
      "text/plain": [
       "        Date  Tesla_Close  BYD_Close  NIO_Close\n",
       "0 2024-01-02   248.419998  52.913208       8.42\n",
       "1 2024-01-03   238.449997  53.662071       8.50\n",
       "2 2024-01-04   237.929993  52.824524       8.27\n",
       "3 2024-01-05   237.490005  52.588039       8.06\n",
       "4 2024-01-08   240.449997  52.420532       7.93"
      ]
     },
     "execution_count": 5,
     "metadata": {},
     "output_type": "execute_result"
    }
   ],
   "source": [
    "# Merge on 'Date'\n",
    "combined_stock = tesla_df.merge(byd_df, on='Date', how='outer')\n",
    "combined_stock = combined_stock.merge(nio_df, on='Date', how='outer')\n",
    "\n",
    "# Sort by date\n",
    "combined_stock = combined_stock.sort_values('Date').reset_index(drop=True)\n",
    "\n",
    "# Preview\n",
    "combined_stock.head()"
   ]
  },
  {
   "cell_type": "code",
   "execution_count": 11,
   "id": "3a6f5595-7654-4cfb-99c4-fff15a09dbe7",
   "metadata": {},
   "outputs": [],
   "source": [
    "combined_stock.to_csv(\"cleaned_stock_data.csv\", index=False)"
   ]
  }
 ],
 "metadata": {
  "kernelspec": {
   "display_name": "Python [conda env:base] *",
   "language": "python",
   "name": "conda-base-py"
  },
  "language_info": {
   "codemirror_mode": {
    "name": "ipython",
    "version": 3
   },
   "file_extension": ".py",
   "mimetype": "text/x-python",
   "name": "python",
   "nbconvert_exporter": "python",
   "pygments_lexer": "ipython3",
   "version": "3.13.5"
  }
 },
 "nbformat": 4,
 "nbformat_minor": 5
}
