{
 "cells": [
  {
   "cell_type": "code",
   "execution_count": 9,
   "id": "ce06e5df-76ac-4ce3-b384-c9976cd5db3d",
   "metadata": {},
   "outputs": [
    {
     "data": {
      "text/html": [
       "<div>\n",
       "<style scoped>\n",
       "    .dataframe tbody tr th:only-of-type {\n",
       "        vertical-align: middle;\n",
       "    }\n",
       "\n",
       "    .dataframe tbody tr th {\n",
       "        vertical-align: top;\n",
       "    }\n",
       "\n",
       "    .dataframe thead th {\n",
       "        text-align: right;\n",
       "    }\n",
       "</style>\n",
       "<table border=\"1\" class=\"dataframe\">\n",
       "  <thead>\n",
       "    <tr style=\"text-align: right;\">\n",
       "      <th></th>\n",
       "      <th></th>\n",
       "      <th></th>\n",
       "      <th></th>\n",
       "      <th>ev_sales_cleaned</th>\n",
       "    </tr>\n",
       "  </thead>\n",
       "  <tbody>\n",
       "    <tr>\n",
       "      <th>Date</th>\n",
       "      <th>BYD</th>\n",
       "      <th>Tesla</th>\n",
       "      <th>NIO</th>\n",
       "      <td>Notes</td>\n",
       "    </tr>\n",
       "    <tr>\n",
       "      <th>2024-01-01</th>\n",
       "      <th>201493</th>\n",
       "      <th>71447</th>\n",
       "      <th>10055</th>\n",
       "      <td>NaN</td>\n",
       "    </tr>\n",
       "    <tr>\n",
       "      <th>2024-02-01</th>\n",
       "      <th>122311</th>\n",
       "      <th>60365</th>\n",
       "      <th>8132</th>\n",
       "      <td>Chinese New Year</td>\n",
       "    </tr>\n",
       "    <tr>\n",
       "      <th>2024-03-01</th>\n",
       "      <th>302459</th>\n",
       "      <th>89064</th>\n",
       "      <th>11866</th>\n",
       "      <td>NaN</td>\n",
       "    </tr>\n",
       "    <tr>\n",
       "      <th>2024-04-01</th>\n",
       "      <th>313245</th>\n",
       "      <th>62167</th>\n",
       "      <th>15620</th>\n",
       "      <td>NaN</td>\n",
       "    </tr>\n",
       "  </tbody>\n",
       "</table>\n",
       "</div>"
      ],
      "text/plain": [
       "                               ev_sales_cleaned\n",
       "Date       BYD    Tesla NIO               Notes\n",
       "2024-01-01 201493 71447 10055               NaN\n",
       "2024-02-01 122311 60365 8132   Chinese New Year\n",
       "2024-03-01 302459 89064 11866               NaN\n",
       "2024-04-01 313245 62167 15620               NaN"
      ]
     },
     "execution_count": 9,
     "metadata": {},
     "output_type": "execute_result"
    }
   ],
   "source": [
    "import pandas as pd\n",
    "\n",
    "clean_ev_sales = pd.read_csv('clean_ev_sales.csv')\n",
    "clean_ev_sales.head()\n"
   ]
  },
  {
   "cell_type": "code",
   "execution_count": 12,
   "id": "5cacda08-f628-4f24-b944-4b9796c864b5",
   "metadata": {},
   "outputs": [
    {
     "data": {
      "text/plain": [
       "ev_sales_cleaned    15\n",
       "dtype: int64"
      ]
     },
     "execution_count": 12,
     "metadata": {},
     "output_type": "execute_result"
    }
   ],
   "source": [
    "clean_ev_sales.isnull().sum()"
   ]
  },
  {
   "cell_type": "code",
   "execution_count": 13,
   "id": "b54b1588-bfdf-4519-a44c-0bda6aa1b5e1",
   "metadata": {},
   "outputs": [
    {
     "data": {
      "text/plain": [
       "ev_sales_cleaned    object\n",
       "dtype: object"
      ]
     },
     "execution_count": 13,
     "metadata": {},
     "output_type": "execute_result"
    }
   ],
   "source": [
    "clean_ev_sales.dtypes"
   ]
  },
  {
   "cell_type": "code",
   "execution_count": 18,
   "id": "4eeb584c-a248-48a4-a7c3-41cb5f960db9",
   "metadata": {},
   "outputs": [
    {
     "data": {
      "text/plain": [
       "np.int64(15)"
      ]
     },
     "execution_count": 18,
     "metadata": {},
     "output_type": "execute_result"
    }
   ],
   "source": [
    "clean_ev_sales.duplicated().sum()"
   ]
  },
  {
   "cell_type": "code",
   "execution_count": 19,
   "id": "32e4a718-7048-4f16-bebb-6e6a2aa2f617",
   "metadata": {},
   "outputs": [
    {
     "data": {
      "text/plain": [
       "18"
      ]
     },
     "execution_count": 19,
     "metadata": {},
     "output_type": "execute_result"
    }
   ],
   "source": [
    "len(clean_ev_sales)"
   ]
  },
  {
   "cell_type": "code",
   "execution_count": 20,
   "id": "2a0e194f-1ae9-49b7-bc29-b48a5a15a1bc",
   "metadata": {},
   "outputs": [
    {
     "name": "stdout",
     "output_type": "stream",
     "text": [
      "['ev_sales_cleaned']\n"
     ]
    }
   ],
   "source": [
    "print(clean_ev_sales.columns.tolist())"
   ]
  },
  {
   "cell_type": "code",
   "execution_count": 23,
   "id": "d7bb4a10-f2e9-45de-8455-1679f8781bcd",
   "metadata": {},
   "outputs": [
    {
     "name": "stdout",
     "output_type": "stream",
     "text": [
      "         Date     BYD  Tesla    NIO             Notes\n",
      "0  2024-01-01  201493  71447  10055               NaN\n",
      "1  2024-02-01  122311  60365   8132  Chinese New Year\n",
      "2  2024-03-01  302459  89064  11866               NaN\n",
      "3  2024-04-01  313245  62167  15620               NaN\n",
      "4  2024-05-01  331817  61662  20544               NaN\n",
      "['Date', 'BYD', 'Tesla', 'NIO', 'Notes']\n"
     ]
    }
   ],
   "source": [
    "clean_ev_sales = pd.read_csv('clean_ev_sales.csv', skiprows=1)\n",
    "print(clean_ev_sales.head())\n",
    "print(clean_ev_sales.columns.tolist())"
   ]
  },
  {
   "cell_type": "code",
   "execution_count": 24,
   "id": "a7c5e58d-508b-4232-aa33-85f0c5a75968",
   "metadata": {},
   "outputs": [],
   "source": [
    "clean_ev_sales['Date'] = pd.to_datetime(clean_ev_sales['Date'])"
   ]
  }
 ],
 "metadata": {
  "kernelspec": {
   "display_name": "Python [conda env:base] *",
   "language": "python",
   "name": "conda-base-py"
  },
  "language_info": {
   "codemirror_mode": {
    "name": "ipython",
    "version": 3
   },
   "file_extension": ".py",
   "mimetype": "text/x-python",
   "name": "python",
   "nbconvert_exporter": "python",
   "pygments_lexer": "ipython3",
   "version": "3.13.5"
  }
 },
 "nbformat": 4,
 "nbformat_minor": 5
}
