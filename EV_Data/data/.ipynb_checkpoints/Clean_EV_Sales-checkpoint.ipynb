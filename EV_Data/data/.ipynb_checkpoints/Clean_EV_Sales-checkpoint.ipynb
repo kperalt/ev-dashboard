{
 "cells": [
  {
   "cell_type": "code",
   "execution_count": 2,
   "id": "f9e22e54-f810-433c-8798-25a81347c6d5",
   "metadata": {},
   "outputs": [],
   "source": [
    "import pandas as pd\n",
    "import matplotlib.pyplot as plt\n",
    "\n",
    "# Optional: Display plots inside notebook\n",
    "%matplotlib inline"
   ]
  },
  {
   "cell_type": "code",
   "execution_count": 9,
   "id": "8f22e3ab-845f-4eea-864c-1f32896062fb",
   "metadata": {},
   "outputs": [
    {
     "data": {
      "text/html": [
       "<div>\n",
       "<style scoped>\n",
       "    .dataframe tbody tr th:only-of-type {\n",
       "        vertical-align: middle;\n",
       "    }\n",
       "\n",
       "    .dataframe tbody tr th {\n",
       "        vertical-align: top;\n",
       "    }\n",
       "\n",
       "    .dataframe thead th {\n",
       "        text-align: right;\n",
       "    }\n",
       "</style>\n",
       "<table border=\"1\" class=\"dataframe\">\n",
       "  <thead>\n",
       "    <tr style=\"text-align: right;\">\n",
       "      <th></th>\n",
       "      <th></th>\n",
       "      <th></th>\n",
       "      <th></th>\n",
       "      <th>ev_sales_template</th>\n",
       "    </tr>\n",
       "  </thead>\n",
       "  <tbody>\n",
       "    <tr>\n",
       "      <th>Month</th>\n",
       "      <th>BYD_Sales</th>\n",
       "      <th>Tesla_Sales</th>\n",
       "      <th>Wuling_Sales</th>\n",
       "      <td>Notes</td>\n",
       "    </tr>\n",
       "    <tr>\n",
       "      <th>2024</th>\n",
       "      <th>3194721</th>\n",
       "      <th>657102</th>\n",
       "      <th>471515</th>\n",
       "      <td>NaN</td>\n",
       "    </tr>\n",
       "    <tr>\n",
       "      <th>2025-01</th>\n",
       "      <th>115309</th>\n",
       "      <th>25694</th>\n",
       "      <th>37054</th>\n",
       "      <td>NaN</td>\n",
       "    </tr>\n",
       "    <tr>\n",
       "      <th>2025-02</th>\n",
       "      <th>283252</th>\n",
       "      <th>60480</th>\n",
       "      <th>69282</th>\n",
       "      <td>Lunar New Year</td>\n",
       "    </tr>\n",
       "    <tr>\n",
       "      <th>2025-03</th>\n",
       "      <th>513703</th>\n",
       "      <th>134607</th>\n",
       "      <th>125174</th>\n",
       "      <td>NaN</td>\n",
       "    </tr>\n",
       "  </tbody>\n",
       "</table>\n",
       "</div>"
      ],
      "text/plain": [
       "                                           ev_sales_template\n",
       "Month   BYD_Sales Tesla_Sales Wuling_Sales             Notes\n",
       "2024    3194721   657102      471515                     NaN\n",
       "2025-01 115309    25694       37054                      NaN\n",
       "2025-02 283252    60480       69282           Lunar New Year\n",
       "2025-03 513703    134607      125174                     NaN"
      ]
     },
     "execution_count": 9,
     "metadata": {},
     "output_type": "execute_result"
    }
   ],
   "source": [
    "# Load the raw EV sales data\n",
    "sales_df = pd.read_csv('EV_Data/ev_sales.csv')\n",
    "\n",
    "# Show the first few rows\n",
    "sales_df.head()"
   ]
  },
  {
   "cell_type": "code",
   "execution_count": 13,
   "id": "a231144b-3104-4697-a4e5-d313b660ef23",
   "metadata": {},
   "outputs": [],
   "source": [
    "#Fix the Date Format\n",
    "#For sorting and plot time series charts later\n",
    "sales_df = pd.read_csv('EV_Data/ev_sales.csv', header=1)\n",
    "sales_df.head()\n",
    "sales_df['Month'] = pd.to_datetime(sales_df['Month'], format='mixed')"
   ]
  },
  {
   "cell_type": "code",
   "execution_count": 14,
   "id": "b03fd2da-46b4-4971-b2bb-340c3de5b5c6",
   "metadata": {},
   "outputs": [
    {
     "data": {
      "text/html": [
       "<div>\n",
       "<style scoped>\n",
       "    .dataframe tbody tr th:only-of-type {\n",
       "        vertical-align: middle;\n",
       "    }\n",
       "\n",
       "    .dataframe tbody tr th {\n",
       "        vertical-align: top;\n",
       "    }\n",
       "\n",
       "    .dataframe thead th {\n",
       "        text-align: right;\n",
       "    }\n",
       "</style>\n",
       "<table border=\"1\" class=\"dataframe\">\n",
       "  <thead>\n",
       "    <tr style=\"text-align: right;\">\n",
       "      <th></th>\n",
       "      <th>Month</th>\n",
       "      <th>BYD_Sales</th>\n",
       "      <th>Tesla_Sales</th>\n",
       "      <th>Wuling_Sales</th>\n",
       "      <th>Notes</th>\n",
       "    </tr>\n",
       "  </thead>\n",
       "  <tbody>\n",
       "    <tr>\n",
       "      <th>0</th>\n",
       "      <td>2024-01-01</td>\n",
       "      <td>3194721</td>\n",
       "      <td>657102</td>\n",
       "      <td>471515</td>\n",
       "      <td>NaN</td>\n",
       "    </tr>\n",
       "    <tr>\n",
       "      <th>1</th>\n",
       "      <td>2025-01-01</td>\n",
       "      <td>115309</td>\n",
       "      <td>25694</td>\n",
       "      <td>37054</td>\n",
       "      <td>NaN</td>\n",
       "    </tr>\n",
       "    <tr>\n",
       "      <th>2</th>\n",
       "      <td>2025-02-01</td>\n",
       "      <td>283252</td>\n",
       "      <td>60480</td>\n",
       "      <td>69282</td>\n",
       "      <td>Lunar New Year</td>\n",
       "    </tr>\n",
       "    <tr>\n",
       "      <th>3</th>\n",
       "      <td>2025-03-01</td>\n",
       "      <td>513703</td>\n",
       "      <td>134607</td>\n",
       "      <td>125174</td>\n",
       "      <td>NaN</td>\n",
       "    </tr>\n",
       "    <tr>\n",
       "      <th>4</th>\n",
       "      <td>2025-04-01</td>\n",
       "      <td>692667</td>\n",
       "      <td>163338</td>\n",
       "      <td>165746</td>\n",
       "      <td>NaN</td>\n",
       "    </tr>\n",
       "  </tbody>\n",
       "</table>\n",
       "</div>"
      ],
      "text/plain": [
       "       Month  BYD_Sales  Tesla_Sales  Wuling_Sales           Notes\n",
       "0 2024-01-01    3194721       657102        471515             NaN\n",
       "1 2025-01-01     115309        25694         37054             NaN\n",
       "2 2025-02-01     283252        60480         69282  Lunar New Year\n",
       "3 2025-03-01     513703       134607        125174             NaN\n",
       "4 2025-04-01     692667       163338        165746             NaN"
      ]
     },
     "execution_count": 14,
     "metadata": {},
     "output_type": "execute_result"
    }
   ],
   "source": [
    "sales_df.head()"
   ]
  },
  {
   "cell_type": "code",
   "execution_count": 15,
   "id": "a011ceff-cae1-4d57-a4e1-a98b54907b9b",
   "metadata": {},
   "outputs": [],
   "source": [
    "sales_df.rename(columns={\n",
    "    'Month': 'Date',\n",
    "    'BYD_Sales': 'BYD',\n",
    "    'Tesla_Sales': 'Tesla',\n",
    "    'Wuling_Sales': 'Wuling'\n",
    "}, inplace=True)"
   ]
  },
  {
   "cell_type": "code",
   "execution_count": 16,
   "id": "c9678c8d-ce8d-4b99-afb1-0b2b0e1aeb96",
   "metadata": {},
   "outputs": [
    {
     "name": "stdout",
     "output_type": "stream",
     "text": [
      "<class 'pandas.core.frame.DataFrame'>\n",
      "RangeIndex: 6 entries, 0 to 5\n",
      "Data columns (total 5 columns):\n",
      " #   Column  Non-Null Count  Dtype         \n",
      "---  ------  --------------  -----         \n",
      " 0   Date    6 non-null      datetime64[ns]\n",
      " 1   BYD     6 non-null      int64         \n",
      " 2   Tesla   6 non-null      int64         \n",
      " 3   Wuling  6 non-null      int64         \n",
      " 4   Notes   1 non-null      object        \n",
      "dtypes: datetime64[ns](1), int64(3), object(1)\n",
      "memory usage: 372.0+ bytes\n",
      "None\n",
      "Date      0\n",
      "BYD       0\n",
      "Tesla     0\n",
      "Wuling    0\n",
      "Notes     5\n",
      "dtype: int64\n"
     ]
    }
   ],
   "source": [
    "print(sales_df.info())\n",
    "print(sales_df.isnull().sum())"
   ]
  },
  {
   "cell_type": "code",
   "execution_count": 17,
   "id": "a32b5ddc-8025-45c9-98d5-366a4fe13185",
   "metadata": {},
   "outputs": [],
   "source": [
    "#Save cleaned file\n",
    "sales_df.to_csv('EV_Data/ev_sales_cleaned.csv', index=False)"
   ]
  },
  {
   "cell_type": "code",
   "execution_count": null,
   "id": "d1997f57-6e8a-4af5-a491-8d85aa47b4f7",
   "metadata": {},
   "outputs": [],
   "source": []
  }
 ],
 "metadata": {
  "kernelspec": {
   "display_name": "Python [conda env:base] *",
   "language": "python",
   "name": "conda-base-py"
  },
  "language_info": {
   "codemirror_mode": {
    "name": "ipython",
    "version": 3
   },
   "file_extension": ".py",
   "mimetype": "text/x-python",
   "name": "python",
   "nbconvert_exporter": "python",
   "pygments_lexer": "ipython3",
   "version": "3.13.5"
  }
 },
 "nbformat": 4,
 "nbformat_minor": 5
}
