{
 "cells": [
  {
   "cell_type": "code",
   "execution_count": 2,
   "id": "f9e22e54-f810-433c-8798-25a81347c6d5",
   "metadata": {},
   "outputs": [],
   "source": [
    "import pandas as pd\n",
    "import matplotlib.pyplot as plt\n",
    "\n",
    "# Optional: Display plots inside notebook\n",
    "%matplotlib inline"
   ]
  },
  {
   "cell_type": "code",
   "execution_count": 9,
   "id": "8f22e3ab-845f-4eea-864c-1f32896062fb",
   "metadata": {},
   "outputs": [
    {
     "data": {
      "text/html": [
       "<div>\n",
       "<style scoped>\n",
       "    .dataframe tbody tr th:only-of-type {\n",
       "        vertical-align: middle;\n",
       "    }\n",
       "\n",
       "    .dataframe tbody tr th {\n",
       "        vertical-align: top;\n",
       "    }\n",
       "\n",
       "    .dataframe thead th {\n",
       "        text-align: right;\n",
       "    }\n",
       "</style>\n",
       "<table border=\"1\" class=\"dataframe\">\n",
       "  <thead>\n",
       "    <tr style=\"text-align: right;\">\n",
       "      <th></th>\n",
       "      <th>Date</th>\n",
       "      <th>BYD</th>\n",
       "      <th>Tesla</th>\n",
       "      <th>NIO</th>\n",
       "      <th>Notes</th>\n",
       "    </tr>\n",
       "  </thead>\n",
       "  <tbody>\n",
       "    <tr>\n",
       "      <th>0</th>\n",
       "      <td>2024-01-01</td>\n",
       "      <td>201493</td>\n",
       "      <td>71447</td>\n",
       "      <td>10055</td>\n",
       "      <td>NaN</td>\n",
       "    </tr>\n",
       "    <tr>\n",
       "      <th>1</th>\n",
       "      <td>2024-02-01</td>\n",
       "      <td>122311</td>\n",
       "      <td>60365</td>\n",
       "      <td>8132</td>\n",
       "      <td>Chinese New Year</td>\n",
       "    </tr>\n",
       "    <tr>\n",
       "      <th>2</th>\n",
       "      <td>2024-03-01</td>\n",
       "      <td>302459</td>\n",
       "      <td>89064</td>\n",
       "      <td>11866</td>\n",
       "      <td>NaN</td>\n",
       "    </tr>\n",
       "    <tr>\n",
       "      <th>3</th>\n",
       "      <td>2024-04-01</td>\n",
       "      <td>313245</td>\n",
       "      <td>62167</td>\n",
       "      <td>15620</td>\n",
       "      <td>NaN</td>\n",
       "    </tr>\n",
       "    <tr>\n",
       "      <th>4</th>\n",
       "      <td>2024-05-01</td>\n",
       "      <td>331817</td>\n",
       "      <td>61662</td>\n",
       "      <td>20544</td>\n",
       "      <td>NaN</td>\n",
       "    </tr>\n",
       "  </tbody>\n",
       "</table>\n",
       "</div>"
      ],
      "text/plain": [
       "         Date     BYD  Tesla    NIO             Notes\n",
       "0  2024-01-01  201493  71447  10055               NaN\n",
       "1  2024-02-01  122311  60365   8132  Chinese New Year\n",
       "2  2024-03-01  302459  89064  11866               NaN\n",
       "3  2024-04-01  313245  62167  15620               NaN\n",
       "4  2024-05-01  331817  61662  20544               NaN"
      ]
     },
     "execution_count": 9,
     "metadata": {},
     "output_type": "execute_result"
    }
   ],
   "source": [
    "# Load the raw EV sales data\n",
    "sales_df = pd.read_csv('final_ev_sales.csv')\n",
    "\n",
    "# Show the first few rows\n",
    "sales_df.head()"
   ]
  },
  {
   "cell_type": "code",
   "execution_count": 14,
   "id": "a231144b-3104-4697-a4e5-d313b660ef23",
   "metadata": {},
   "outputs": [],
   "source": [
    "#Fix the Date Format\n",
    "#For sorting and plot time series charts later\n",
    "sales_df = pd.read_csv('final_ev_sales.csv', header=0)\n",
    "sales_df.head()\n",
    "sales_df.rename(columns={'Date': 'Month'}, inplace=True)\n",
    "sales_df['Month'] = pd.to_datetime(sales_df['Month'], format='mixed')\n"
   ]
  },
  {
   "cell_type": "code",
   "execution_count": 15,
   "id": "b03fd2da-46b4-4971-b2bb-340c3de5b5c6",
   "metadata": {},
   "outputs": [
    {
     "data": {
      "text/html": [
       "<div>\n",
       "<style scoped>\n",
       "    .dataframe tbody tr th:only-of-type {\n",
       "        vertical-align: middle;\n",
       "    }\n",
       "\n",
       "    .dataframe tbody tr th {\n",
       "        vertical-align: top;\n",
       "    }\n",
       "\n",
       "    .dataframe thead th {\n",
       "        text-align: right;\n",
       "    }\n",
       "</style>\n",
       "<table border=\"1\" class=\"dataframe\">\n",
       "  <thead>\n",
       "    <tr style=\"text-align: right;\">\n",
       "      <th></th>\n",
       "      <th>Month</th>\n",
       "      <th>BYD</th>\n",
       "      <th>Tesla</th>\n",
       "      <th>NIO</th>\n",
       "      <th>Notes</th>\n",
       "    </tr>\n",
       "  </thead>\n",
       "  <tbody>\n",
       "    <tr>\n",
       "      <th>0</th>\n",
       "      <td>2024-01-01</td>\n",
       "      <td>201493</td>\n",
       "      <td>71447</td>\n",
       "      <td>10055</td>\n",
       "      <td>NaN</td>\n",
       "    </tr>\n",
       "    <tr>\n",
       "      <th>1</th>\n",
       "      <td>2024-02-01</td>\n",
       "      <td>122311</td>\n",
       "      <td>60365</td>\n",
       "      <td>8132</td>\n",
       "      <td>Chinese New Year</td>\n",
       "    </tr>\n",
       "    <tr>\n",
       "      <th>2</th>\n",
       "      <td>2024-03-01</td>\n",
       "      <td>302459</td>\n",
       "      <td>89064</td>\n",
       "      <td>11866</td>\n",
       "      <td>NaN</td>\n",
       "    </tr>\n",
       "    <tr>\n",
       "      <th>3</th>\n",
       "      <td>2024-04-01</td>\n",
       "      <td>313245</td>\n",
       "      <td>62167</td>\n",
       "      <td>15620</td>\n",
       "      <td>NaN</td>\n",
       "    </tr>\n",
       "    <tr>\n",
       "      <th>4</th>\n",
       "      <td>2024-05-01</td>\n",
       "      <td>331817</td>\n",
       "      <td>61662</td>\n",
       "      <td>20544</td>\n",
       "      <td>NaN</td>\n",
       "    </tr>\n",
       "  </tbody>\n",
       "</table>\n",
       "</div>"
      ],
      "text/plain": [
       "       Month     BYD  Tesla    NIO             Notes\n",
       "0 2024-01-01  201493  71447  10055               NaN\n",
       "1 2024-02-01  122311  60365   8132  Chinese New Year\n",
       "2 2024-03-01  302459  89064  11866               NaN\n",
       "3 2024-04-01  313245  62167  15620               NaN\n",
       "4 2024-05-01  331817  61662  20544               NaN"
      ]
     },
     "execution_count": 15,
     "metadata": {},
     "output_type": "execute_result"
    }
   ],
   "source": [
    "sales_df.head()"
   ]
  },
  {
   "cell_type": "code",
   "execution_count": 16,
   "id": "a011ceff-cae1-4d57-a4e1-a98b54907b9b",
   "metadata": {},
   "outputs": [],
   "source": [
    "sales_df.rename(columns={\n",
    "    'Month': 'Date',\n",
    "    'BYD_Sales': 'BYD',\n",
    "    'Tesla_Sales': 'Tesla',\n",
    "    'Wuling_Sales': 'Wuling'\n",
    "}, inplace=True)"
   ]
  },
  {
   "cell_type": "code",
   "execution_count": 17,
   "id": "c9678c8d-ce8d-4b99-afb1-0b2b0e1aeb96",
   "metadata": {},
   "outputs": [
    {
     "name": "stdout",
     "output_type": "stream",
     "text": [
      "<class 'pandas.core.frame.DataFrame'>\n",
      "RangeIndex: 17 entries, 0 to 16\n",
      "Data columns (total 5 columns):\n",
      " #   Column  Non-Null Count  Dtype         \n",
      "---  ------  --------------  -----         \n",
      " 0   Date    17 non-null     datetime64[ns]\n",
      " 1   BYD     17 non-null     int64         \n",
      " 2   Tesla   17 non-null     int64         \n",
      " 3   NIO     17 non-null     int64         \n",
      " 4   Notes   2 non-null      object        \n",
      "dtypes: datetime64[ns](1), int64(3), object(1)\n",
      "memory usage: 812.0+ bytes\n",
      "None\n",
      "Date      0\n",
      "BYD       0\n",
      "Tesla     0\n",
      "NIO       0\n",
      "Notes    15\n",
      "dtype: int64\n"
     ]
    }
   ],
   "source": [
    "print(sales_df.info())\n",
    "print(sales_df.isnull().sum())"
   ]
  },
  {
   "cell_type": "code",
   "execution_count": 19,
   "id": "a32b5ddc-8025-45c9-98d5-366a4fe13185",
   "metadata": {},
   "outputs": [],
   "source": [
    "#Save cleaned file\n",
    "sales_df.to_csv('final_ev_sales.csv', index=False)"
   ]
  },
  {
   "cell_type": "code",
   "execution_count": null,
   "id": "d1997f57-6e8a-4af5-a491-8d85aa47b4f7",
   "metadata": {},
   "outputs": [],
   "source": []
  }
 ],
 "metadata": {
  "kernelspec": {
   "display_name": "Python [conda env:base] *",
   "language": "python",
   "name": "conda-base-py"
  },
  "language_info": {
   "codemirror_mode": {
    "name": "ipython",
    "version": 3
   },
   "file_extension": ".py",
   "mimetype": "text/x-python",
   "name": "python",
   "nbconvert_exporter": "python",
   "pygments_lexer": "ipython3",
   "version": "3.13.5"
  }
 },
 "nbformat": 4,
 "nbformat_minor": 5
}
