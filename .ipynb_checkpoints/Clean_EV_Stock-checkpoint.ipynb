{
 "cells": [
  {
   "cell_type": "code",
   "execution_count": 4,
   "id": "3ece826a-4ce6-400b-a4a0-e800682c1c3d",
   "metadata": {},
   "outputs": [],
   "source": [
    "import pandas as pd\n",
    "os.chdir('/Users/keylaperalta/Downloads/EV Project/EV_Data/data')\n",
    "# Load the 2024–2025 stock data\n",
    "tesla_df = pd.read_csv('Tesla_stock_2024_2025.csv')\n",
    "byd_df = pd.read_csv('BYD_stock_2024_2025.csv')\n",
    "wuling_df = pd.read_csv('Wuling_stock_2024_2025.csv')"
   ]
  },
  {
   "cell_type": "code",
   "execution_count": 5,
   "id": "23c0af3c-754c-449d-86cc-10bf51799e02",
   "metadata": {},
   "outputs": [
    {
     "name": "stdout",
     "output_type": "stream",
     "text": [
      "Tesla:\n",
      "        Price               Close                High                 Low  \\\n",
      "0      Ticker                TSLA                TSLA                TSLA   \n",
      "1        Date                 NaN                 NaN                 NaN   \n",
      "2  2024-01-02   248.4199981689453              251.25  244.41000366210938   \n",
      "3  2024-01-03   238.4499969482422  245.67999267578125  236.32000732421875   \n",
      "4  2024-01-04  237.92999267578125   242.6999969482422  237.72999572753906   \n",
      "\n",
      "                 Open     Volume  \n",
      "0                TSLA       TSLA  \n",
      "1                 NaN        NaN  \n",
      "2   250.0800018310547  104654200  \n",
      "3  244.97999572753906  121082600  \n",
      "4              239.25  102629300  \n",
      "\n",
      "BYD:\n",
      "        Price               Close                High                Low  \\\n",
      "0      Ticker               BYDDY               BYDDY              BYDDY   \n",
      "1        Date                 NaN                 NaN                NaN   \n",
      "2  2024-01-02    52.9132080078125  53.977382288550764  52.73584500122184   \n",
      "3  2024-01-03  53.662071228027344   53.73104531309428  53.01174145539219   \n",
      "4  2024-01-04   52.82452392578125  53.671924080612264  50.35129754283906   \n",
      "\n",
      "                 Open  Volume  \n",
      "0               BYDDY   BYDDY  \n",
      "1                 NaN     NaN  \n",
      "2   53.68177853050156  882200  \n",
      "3   53.13983779571895  788300  \n",
      "4  53.671924080612264  681100  \n",
      "\n",
      "Wuling:\n",
      "        Price               Close                High                 Low  \\\n",
      "0      Ticker           600104.SS           600104.SS           600104.SS   \n",
      "1        Date                 NaN                 NaN                 NaN   \n",
      "2  2024-01-02  13.050661087036133  13.371578906600321   13.04093607979413   \n",
      "3  2024-01-03  13.128458976745605  13.157633070347503  13.002036667900432   \n",
      "4  2024-01-04  13.050661087036133  13.186808406140958  12.943688789657315   \n",
      "\n",
      "                 Open     Volume  \n",
      "0           600104.SS  600104.SS  \n",
      "1                 NaN        NaN  \n",
      "2  13.186808406140958   18821008  \n",
      "3   13.03121076150233   12174675  \n",
      "4  13.138184297358682   16882051  \n"
     ]
    }
   ],
   "source": [
    "print(\"Tesla:\")\n",
    "print(tesla_df.head())\n",
    "\n",
    "print(\"\\nBYD:\")\n",
    "print(byd_df.head())\n",
    "\n",
    "print(\"\\nWuling:\")\n",
    "print(wuling_df.head())"
   ]
  },
  {
   "cell_type": "code",
   "execution_count": 8,
   "id": "0960c149-e1a3-4e4c-93a6-f2d499863f8a",
   "metadata": {},
   "outputs": [
    {
     "data": {
      "text/html": [
       "<div>\n",
       "<style scoped>\n",
       "    .dataframe tbody tr th:only-of-type {\n",
       "        vertical-align: middle;\n",
       "    }\n",
       "\n",
       "    .dataframe tbody tr th {\n",
       "        vertical-align: top;\n",
       "    }\n",
       "\n",
       "    .dataframe thead th {\n",
       "        text-align: right;\n",
       "    }\n",
       "</style>\n",
       "<table border=\"1\" class=\"dataframe\">\n",
       "  <thead>\n",
       "    <tr style=\"text-align: right;\">\n",
       "      <th></th>\n",
       "      <th>Date</th>\n",
       "      <th>Tesla_Close</th>\n",
       "      <th>BYD_Close</th>\n",
       "      <th>Wuling_Close</th>\n",
       "    </tr>\n",
       "  </thead>\n",
       "  <tbody>\n",
       "    <tr>\n",
       "      <th>0</th>\n",
       "      <td>2024-01-02</td>\n",
       "      <td>248.419998</td>\n",
       "      <td>52.913208</td>\n",
       "      <td>13.050661</td>\n",
       "    </tr>\n",
       "    <tr>\n",
       "      <th>1</th>\n",
       "      <td>2024-01-03</td>\n",
       "      <td>238.449997</td>\n",
       "      <td>53.662071</td>\n",
       "      <td>13.128459</td>\n",
       "    </tr>\n",
       "    <tr>\n",
       "      <th>2</th>\n",
       "      <td>2024-01-04</td>\n",
       "      <td>237.929993</td>\n",
       "      <td>52.824524</td>\n",
       "      <td>13.050661</td>\n",
       "    </tr>\n",
       "    <tr>\n",
       "      <th>3</th>\n",
       "      <td>2024-01-05</td>\n",
       "      <td>237.490005</td>\n",
       "      <td>52.588039</td>\n",
       "      <td>12.972862</td>\n",
       "    </tr>\n",
       "    <tr>\n",
       "      <th>4</th>\n",
       "      <td>2024-01-08</td>\n",
       "      <td>240.449997</td>\n",
       "      <td>52.420532</td>\n",
       "      <td>12.758917</td>\n",
       "    </tr>\n",
       "  </tbody>\n",
       "</table>\n",
       "</div>"
      ],
      "text/plain": [
       "        Date  Tesla_Close  BYD_Close  Wuling_Close\n",
       "0 2024-01-02   248.419998  52.913208     13.050661\n",
       "1 2024-01-03   238.449997  53.662071     13.128459\n",
       "2 2024-01-04   237.929993  52.824524     13.050661\n",
       "3 2024-01-05   237.490005  52.588039     12.972862\n",
       "4 2024-01-08   240.449997  52.420532     12.758917"
      ]
     },
     "execution_count": 8,
     "metadata": {},
     "output_type": "execute_result"
    }
   ],
   "source": [
    "import pandas as pd\n",
    "\n",
    "# Helper function to clean each stock dataframe\n",
    "def clean_stock_data(filepath, company_name):\n",
    "    df = pd.read_csv(filepath, skiprows=2)  # Skip the header rows\n",
    "    df = df[['Date', 'Unnamed: 1']]         # Keep only Date and Close\n",
    "    df.rename(columns={'Unnamed: 1': f'{company_name}_Close'}, inplace=True)\n",
    "    df['Date'] = pd.to_datetime(df['Date'])\n",
    "    return df\n",
    "\n",
    "# Clean all three\n",
    "tesla_df = clean_stock_data('Tesla_stock_2024_2025.csv', 'Tesla')\n",
    "byd_df = clean_stock_data('BYD_stock_2024_2025.csv', 'BYD')\n",
    "wuling_df = clean_stock_data('Wuling_stock_2024_2025.csv', 'Wuling')\n",
    "\n",
    "# Merge\n",
    "combined_stock = tesla_df.merge(byd_df, on='Date', how='outer')\n",
    "combined_stock = combined_stock.merge(wuling_df, on='Date', how='outer')\n",
    "combined_stock = combined_stock.sort_values('Date').reset_index(drop=True)\n",
    "\n",
    "# Preview\n",
    "combined_stock.head()\n"
   ]
  },
  {
   "cell_type": "code",
   "execution_count": 9,
   "id": "f28daa6b-3f53-430e-8ca3-ba51070f75d3",
   "metadata": {},
   "outputs": [],
   "source": [
    "tesla_df = clean_stock_data('Tesla_stock_2024_2025.csv', 'Tesla')\n",
    "byd_df = clean_stock_data('BYD_stock_2024_2025.csv', 'BYD')\n",
    "wuling_df = clean_stock_data('Wuling_stock_2024_2025.csv', 'Wuling')"
   ]
  },
  {
   "cell_type": "code",
   "execution_count": 10,
   "id": "b3e63a66-a294-495d-9b28-cf5dfb9712f3",
   "metadata": {},
   "outputs": [],
   "source": [
    "combined_stock.to_csv('combined_stock_2024_2025.csv', index=False)"
   ]
  }
 ],
 "metadata": {
  "kernelspec": {
   "display_name": "Python [conda env:base] *",
   "language": "python",
   "name": "conda-base-py"
  },
  "language_info": {
   "codemirror_mode": {
    "name": "ipython",
    "version": 3
   },
   "file_extension": ".py",
   "mimetype": "text/x-python",
   "name": "python",
   "nbconvert_exporter": "python",
   "pygments_lexer": "ipython3",
   "version": "3.13.5"
  }
 },
 "nbformat": 4,
 "nbformat_minor": 5
}
